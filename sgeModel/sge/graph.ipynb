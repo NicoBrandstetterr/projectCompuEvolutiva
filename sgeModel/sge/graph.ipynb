{
 "cells": [
  {
   "cell_type": "code",
   "execution_count": 1,
   "metadata": {},
   "outputs": [],
   "source": [
    "import numpy as np\n",
    "\n",
    "import pandas as pd\n",
    "import os\n",
    "\n",
    "import matplotlib.pyplot as plt\n",
    "from sge.parameters import params\n",
    "import seaborn as sns\n",
    "\n",
    "from sge.engine import setup"
   ]
  },
  {
   "cell_type": "code",
   "execution_count": 21,
   "metadata": {},
   "outputs": [],
   "source": [
    "path = 'results/cdrag/'\n",
    "with open(f\"{path}run_1/iteration_2.json\") as file:\n",
    "    df_grid = pd.read_json(file)\n"
   ]
  },
  {
   "cell_type": "code",
   "execution_count": 22,
   "metadata": {},
   "outputs": [
    {
     "data": {
      "text/html": [
       "<div>\n",
       "<style scoped>\n",
       "    .dataframe tbody tr th:only-of-type {\n",
       "        vertical-align: middle;\n",
       "    }\n",
       "\n",
       "    .dataframe tbody tr th {\n",
       "        vertical-align: top;\n",
       "    }\n",
       "\n",
       "    .dataframe thead th {\n",
       "        text-align: right;\n",
       "    }\n",
       "</style>\n",
       "<table border=\"1\" class=\"dataframe\">\n",
       "  <thead>\n",
       "    <tr style=\"text-align: right;\">\n",
       "      <th></th>\n",
       "      <th>genotype</th>\n",
       "      <th>fitness</th>\n",
       "      <th>mapping_values</th>\n",
       "      <th>tree_depth</th>\n",
       "      <th>original_phenotype</th>\n",
       "      <th>phenotype</th>\n",
       "      <th>fitness_validation</th>\n",
       "      <th>other_info</th>\n",
       "    </tr>\n",
       "  </thead>\n",
       "  <tbody>\n",
       "    <tr>\n",
       "      <th>0</th>\n",
       "      <td>[[0], [1], [2, 1], [2, 0, 1], [1, 2, 2, 0, 1],...</td>\n",
       "      <td>0.299379</td>\n",
       "      <td>[1, 1, 2, 3, 5, 7, 8, 6]</td>\n",
       "      <td>7</td>\n",
       "      <td>((((Constant/x[1])**Constant)**Constant)/(Cons...</td>\n",
       "      <td>((((0.3935471856472177/x[1])**0.22960345140396...</td>\n",
       "      <td>0.317950</td>\n",
       "      <td>{'fitness 25': 0.29937914381769903, 'fitness 5...</td>\n",
       "    </tr>\n",
       "    <tr>\n",
       "      <th>1</th>\n",
       "      <td>[[0], [2], [1], [3, 2], [1], [3, 1], [0, 0, 1]...</td>\n",
       "      <td>0.346823</td>\n",
       "      <td>[1, 1, 1, 2, 1, 2, 3, 2]</td>\n",
       "      <td>7</td>\n",
       "      <td>((x[1]/((x[1]-Constant)**Constant))**Constant)</td>\n",
       "      <td>((x[1]/((x[1]-0.8282040025392404)**0.226631350...</td>\n",
       "      <td>0.385076</td>\n",
       "      <td>{'fitness 25': 0.346823029177587, 'fitness 53'...</td>\n",
       "    </tr>\n",
       "    <tr>\n",
       "      <th>2</th>\n",
       "      <td>[[0], [1], [0, 3], [0, 2], [0, 1, 1], [3, 0, 3...</td>\n",
       "      <td>0.454720</td>\n",
       "      <td>[1, 1, 2, 2, 3, 6, 7, 5]</td>\n",
       "      <td>7</td>\n",
       "      <td>(Constant/x[1]+(Constant/x[0])*((x[1]/x[1])**C...</td>\n",
       "      <td>(0.517277205507015/x[1]+(0.4734806562724796/x[...</td>\n",
       "      <td>0.554721</td>\n",
       "      <td>{'fitness 25': 0.45472039633516403, 'fitness 5...</td>\n",
       "    </tr>\n",
       "    <tr>\n",
       "      <th>3</th>\n",
       "      <td>[[0], [2], [2], [2], [1], [3], [0, 1], [0]]</td>\n",
       "      <td>0.689029</td>\n",
       "      <td>[1, 1, 1, 1, 1, 1, 2, 1]</td>\n",
       "      <td>7</td>\n",
       "      <td>((((x[0]/Constant)**Constant)**Constant)**Cons...</td>\n",
       "      <td>((((x[0]/0.29382526168496037)**0.8141960136770...</td>\n",
       "      <td>0.791339</td>\n",
       "      <td>{'fitness 25': 0.689028908337971, 'fitness 53'...</td>\n",
       "    </tr>\n",
       "    <tr>\n",
       "      <th>4</th>\n",
       "      <td>[[0], [2], [2, 1], [2], [2], [3, 2, 3, 3], [0,...</td>\n",
       "      <td>0.748646</td>\n",
       "      <td>[1, 1, 1, 1, 1, 0, 1, 1]</td>\n",
       "      <td>7</td>\n",
       "      <td>(((x[1]**Constant)**Constant)**Constant)</td>\n",
       "      <td>(((x[1]**0.10718605352418975)**0.8867393729894...</td>\n",
       "      <td>0.851532</td>\n",
       "      <td>{'fitness 25': 0.748646043600105, 'fitness 53'...</td>\n",
       "    </tr>\n",
       "  </tbody>\n",
       "</table>\n",
       "</div>"
      ],
      "text/plain": [
       "                                            genotype   fitness  \\\n",
       "0  [[0], [1], [2, 1], [2, 0, 1], [1, 2, 2, 0, 1],...  0.299379   \n",
       "1  [[0], [2], [1], [3, 2], [1], [3, 1], [0, 0, 1]...  0.346823   \n",
       "2  [[0], [1], [0, 3], [0, 2], [0, 1, 1], [3, 0, 3...  0.454720   \n",
       "3        [[0], [2], [2], [2], [1], [3], [0, 1], [0]]  0.689029   \n",
       "4  [[0], [2], [2, 1], [2], [2], [3, 2, 3, 3], [0,...  0.748646   \n",
       "\n",
       "             mapping_values  tree_depth  \\\n",
       "0  [1, 1, 2, 3, 5, 7, 8, 6]           7   \n",
       "1  [1, 1, 1, 2, 1, 2, 3, 2]           7   \n",
       "2  [1, 1, 2, 2, 3, 6, 7, 5]           7   \n",
       "3  [1, 1, 1, 1, 1, 1, 2, 1]           7   \n",
       "4  [1, 1, 1, 1, 1, 0, 1, 1]           7   \n",
       "\n",
       "                                  original_phenotype  \\\n",
       "0  ((((Constant/x[1])**Constant)**Constant)/(Cons...   \n",
       "1     ((x[1]/((x[1]-Constant)**Constant))**Constant)   \n",
       "2  (Constant/x[1]+(Constant/x[0])*((x[1]/x[1])**C...   \n",
       "3  ((((x[0]/Constant)**Constant)**Constant)**Cons...   \n",
       "4           (((x[1]**Constant)**Constant)**Constant)   \n",
       "\n",
       "                                           phenotype  fitness_validation  \\\n",
       "0  ((((0.3935471856472177/x[1])**0.22960345140396...            0.317950   \n",
       "1  ((x[1]/((x[1]-0.8282040025392404)**0.226631350...            0.385076   \n",
       "2  (0.517277205507015/x[1]+(0.4734806562724796/x[...            0.554721   \n",
       "3  ((((x[0]/0.29382526168496037)**0.8141960136770...            0.791339   \n",
       "4  (((x[1]**0.10718605352418975)**0.8867393729894...            0.851532   \n",
       "\n",
       "                                          other_info  \n",
       "0  {'fitness 25': 0.29937914381769903, 'fitness 5...  \n",
       "1  {'fitness 25': 0.346823029177587, 'fitness 53'...  \n",
       "2  {'fitness 25': 0.45472039633516403, 'fitness 5...  \n",
       "3  {'fitness 25': 0.689028908337971, 'fitness 53'...  \n",
       "4  {'fitness 25': 0.748646043600105, 'fitness 53'...  "
      ]
     },
     "execution_count": 22,
     "metadata": {},
     "output_type": "execute_result"
    }
   ],
   "source": [
    "df_grid.head()"
   ]
  },
  {
   "cell_type": "code",
   "execution_count": 15,
   "metadata": {},
   "outputs": [],
   "source": [
    "def get_info_best_fitness(folder):\n",
    "    try:\n",
    "        df = pd.read_csv(os.path.join(folder, 'progress_report.csv'), names=['fitness', 'mean', 'std', 'valids'])\n",
    "        best_fitness = df['fitness'].iloc[-1]\n",
    "    except FileNotFoundError:\n",
    "        print(f\"Archivo no encontrado en {folder}\")\n",
    "        best_fitness = np.nan\n",
    "\n",
    "    mean_best_fitness = best_fitness  # Valor de la última fila\n",
    "    std_best_fitness = 0  # Modificar si es necesario\n",
    "\n",
    "    return mean_best_fitness, std_best_fitness\n",
    "\n",
    "\n",
    "\n",
    "def get_columnas_variable(df):\n",
    "    columnas_no_listas_dicts = [col for col in df.columns if not isinstance(df[col].iloc[0], (list, dict))]\n",
    "    resultado = df[columnas_no_listas_dicts].nunique() > 1\n",
    "    columnas_valiables = list(resultado.index[resultado.values])\n",
    "    return columnas_valiables\n",
    "\n",
    "\n",
    "\n",
    "\n",
    "def get_best_fitness(df, path):\n",
    "    mean_best_fitness_list = []\n",
    "    std_best_fitness_list = []\n",
    "    path_folder = os.path.join(path, 'run_1/')\n",
    "    mean_best_fitness, std_best_fitness = get_info_best_fitness(path_folder)\n",
    "    df['mean best fitness'] = [mean_best_fitness] * len(df)\n",
    "    df['std best fitness'] = [std_best_fitness] * len(df)\n",
    "    return df\n",
    "\n",
    "\n",
    "\n",
    "\n"
   ]
  },
  {
   "cell_type": "code",
   "execution_count": 20,
   "metadata": {},
   "outputs": [
    {
     "name": "stdout",
     "output_type": "stream",
     "text": [
      "Hay duplicados en las columnas especificadas.\n"
     ]
    },
    {
     "name": "stderr",
     "output_type": "stream",
     "text": [
      "C:\\Users\\nicol\\AppData\\Local\\Temp\\ipykernel_19628\\506720588.py:30: SettingWithCopyWarning: \n",
      "A value is trying to be set on a copy of a slice from a DataFrame.\n",
      "Try using .loc[row_indexer,col_indexer] = value instead\n",
      "\n",
      "See the caveats in the documentation: https://pandas.pydata.org/pandas-docs/stable/user_guide/indexing.html#returning-a-view-versus-a-copy\n",
      "  df['mean best fitness'] = [mean_best_fitness] * len(df)\n",
      "C:\\Users\\nicol\\AppData\\Local\\Temp\\ipykernel_19628\\506720588.py:31: SettingWithCopyWarning: \n",
      "A value is trying to be set on a copy of a slice from a DataFrame.\n",
      "Try using .loc[row_indexer,col_indexer] = value instead\n",
      "\n",
      "See the caveats in the documentation: https://pandas.pydata.org/pandas-docs/stable/user_guide/indexing.html#returning-a-view-versus-a-copy\n",
      "  df['std best fitness'] = [std_best_fitness] * len(df)\n"
     ]
    },
    {
     "ename": "ValueError",
     "evalue": "could not convert string to float: '   2\\t2.993791e-01\\t2.647641e+06\\t1.777979e+07'",
     "output_type": "error",
     "traceback": [
      "\u001b[1;31m---------------------------------------------------------------------------\u001b[0m",
      "\u001b[1;31mValueError\u001b[0m                                Traceback (most recent call last)",
      "\u001b[1;32mc:\\Users\\nicol\\Documents\\Universidad\\Computacion Evolutiva\\projectCompuEvolutiva\\sgeModel\\sge\\graph.ipynb Celda 5\u001b[0m line \u001b[0;36m1\n\u001b[0;32m     <a href='vscode-notebook-cell:/c%3A/Users/nicol/Documents/Universidad/Computacion%20Evolutiva/projectCompuEvolutiva/sgeModel/sge/graph.ipynb#W4sZmlsZQ%3D%3D?line=9'>10</a>\u001b[0m df_grid_pivot \u001b[39m=\u001b[39m df_grid\u001b[39m.\u001b[39mpivot(index\u001b[39m=\u001b[39mcolumnas_valiables[\u001b[39m0\u001b[39m], columns\u001b[39m=\u001b[39mcolumnas_valiables[\u001b[39m1\u001b[39m], values\u001b[39m=\u001b[39m\u001b[39m'\u001b[39m\u001b[39mmean best fitness\u001b[39m\u001b[39m'\u001b[39m)\n\u001b[0;32m     <a href='vscode-notebook-cell:/c%3A/Users/nicol/Documents/Universidad/Computacion%20Evolutiva/projectCompuEvolutiva/sgeModel/sge/graph.ipynb#W4sZmlsZQ%3D%3D?line=12'>13</a>\u001b[0m fig, axis \u001b[39m=\u001b[39m plt\u001b[39m.\u001b[39msubplots(\u001b[39m1\u001b[39m,\u001b[39m1\u001b[39m, figsize\u001b[39m=\u001b[39m(\u001b[39m10\u001b[39m,\u001b[39m8\u001b[39m))\n\u001b[1;32m---> <a href='vscode-notebook-cell:/c%3A/Users/nicol/Documents/Universidad/Computacion%20Evolutiva/projectCompuEvolutiva/sgeModel/sge/graph.ipynb#W4sZmlsZQ%3D%3D?line=13'>14</a>\u001b[0m sns\u001b[39m.\u001b[39;49mheatmap(df_grid_pivot,ax\u001b[39m=\u001b[39;49maxis)\n\u001b[0;32m     <a href='vscode-notebook-cell:/c%3A/Users/nicol/Documents/Universidad/Computacion%20Evolutiva/projectCompuEvolutiva/sgeModel/sge/graph.ipynb#W4sZmlsZQ%3D%3D?line=14'>15</a>\u001b[0m plt\u001b[39m.\u001b[39mtitle(\u001b[39m'\u001b[39m\u001b[39mError en obtener un expresión para coeficiente de arrastre en función \u001b[39m\u001b[39m\\n\u001b[39;00m\u001b[39m del tamaño de población y la cantidad de generaciones\u001b[39m\u001b[39m'\u001b[39m,fontsize\u001b[39m=\u001b[39m\u001b[39m16\u001b[39m)\n\u001b[0;32m     <a href='vscode-notebook-cell:/c%3A/Users/nicol/Documents/Universidad/Computacion%20Evolutiva/projectCompuEvolutiva/sgeModel/sge/graph.ipynb#W4sZmlsZQ%3D%3D?line=15'>16</a>\u001b[0m plt\u001b[39m.\u001b[39mxlabel(\u001b[39m'\u001b[39m\u001b[39mTamaño de población\u001b[39m\u001b[39m'\u001b[39m,fontsize\u001b[39m=\u001b[39m\u001b[39m14\u001b[39m)\n",
      "File \u001b[1;32mc:\\Users\\nicol\\Documents\\Universidad\\Computacion Evolutiva\\projectCompuEvolutiva\\env\\Lib\\site-packages\\seaborn\\matrix.py:446\u001b[0m, in \u001b[0;36mheatmap\u001b[1;34m(data, vmin, vmax, cmap, center, robust, annot, fmt, annot_kws, linewidths, linecolor, cbar, cbar_kws, cbar_ax, square, xticklabels, yticklabels, mask, ax, **kwargs)\u001b[0m\n\u001b[0;32m    365\u001b[0m \u001b[39m\u001b[39m\u001b[39m\"\"\"Plot rectangular data as a color-encoded matrix.\u001b[39;00m\n\u001b[0;32m    366\u001b[0m \n\u001b[0;32m    367\u001b[0m \u001b[39mThis is an Axes-level function and will draw the heatmap into the\u001b[39;00m\n\u001b[1;32m   (...)\u001b[0m\n\u001b[0;32m    443\u001b[0m \n\u001b[0;32m    444\u001b[0m \u001b[39m\"\"\"\u001b[39;00m\n\u001b[0;32m    445\u001b[0m \u001b[39m# Initialize the plotter object\u001b[39;00m\n\u001b[1;32m--> 446\u001b[0m plotter \u001b[39m=\u001b[39m _HeatMapper(data, vmin, vmax, cmap, center, robust, annot, fmt,\n\u001b[0;32m    447\u001b[0m                       annot_kws, cbar, cbar_kws, xticklabels,\n\u001b[0;32m    448\u001b[0m                       yticklabels, mask)\n\u001b[0;32m    450\u001b[0m \u001b[39m# Add the pcolormesh kwargs here\u001b[39;00m\n\u001b[0;32m    451\u001b[0m kwargs[\u001b[39m\"\u001b[39m\u001b[39mlinewidths\u001b[39m\u001b[39m\"\u001b[39m] \u001b[39m=\u001b[39m linewidths\n",
      "File \u001b[1;32mc:\\Users\\nicol\\Documents\\Universidad\\Computacion Evolutiva\\projectCompuEvolutiva\\env\\Lib\\site-packages\\seaborn\\matrix.py:163\u001b[0m, in \u001b[0;36m_HeatMapper.__init__\u001b[1;34m(self, data, vmin, vmax, cmap, center, robust, annot, fmt, annot_kws, cbar, cbar_kws, xticklabels, yticklabels, mask)\u001b[0m\n\u001b[0;32m    160\u001b[0m \u001b[39mself\u001b[39m\u001b[39m.\u001b[39mylabel \u001b[39m=\u001b[39m ylabel \u001b[39mif\u001b[39;00m ylabel \u001b[39mis\u001b[39;00m \u001b[39mnot\u001b[39;00m \u001b[39mNone\u001b[39;00m \u001b[39melse\u001b[39;00m \u001b[39m\"\u001b[39m\u001b[39m\"\u001b[39m\n\u001b[0;32m    162\u001b[0m \u001b[39m# Determine good default values for the colormapping\u001b[39;00m\n\u001b[1;32m--> 163\u001b[0m \u001b[39mself\u001b[39;49m\u001b[39m.\u001b[39;49m_determine_cmap_params(plot_data, vmin, vmax,\n\u001b[0;32m    164\u001b[0m                             cmap, center, robust)\n\u001b[0;32m    166\u001b[0m \u001b[39m# Sort out the annotations\u001b[39;00m\n\u001b[0;32m    167\u001b[0m \u001b[39mif\u001b[39;00m annot \u001b[39mis\u001b[39;00m \u001b[39mNone\u001b[39;00m \u001b[39mor\u001b[39;00m annot \u001b[39mis\u001b[39;00m \u001b[39mFalse\u001b[39;00m:\n",
      "File \u001b[1;32mc:\\Users\\nicol\\Documents\\Universidad\\Computacion Evolutiva\\projectCompuEvolutiva\\env\\Lib\\site-packages\\seaborn\\matrix.py:197\u001b[0m, in \u001b[0;36m_HeatMapper._determine_cmap_params\u001b[1;34m(self, plot_data, vmin, vmax, cmap, center, robust)\u001b[0m\n\u001b[0;32m    194\u001b[0m \u001b[39m\u001b[39m\u001b[39m\"\"\"Use some heuristics to set good defaults for colorbar and range.\"\"\"\u001b[39;00m\n\u001b[0;32m    196\u001b[0m \u001b[39m# plot_data is a np.ma.array instance\u001b[39;00m\n\u001b[1;32m--> 197\u001b[0m calc_data \u001b[39m=\u001b[39m plot_data\u001b[39m.\u001b[39;49mastype(\u001b[39mfloat\u001b[39;49m)\u001b[39m.\u001b[39mfilled(np\u001b[39m.\u001b[39mnan)\n\u001b[0;32m    198\u001b[0m \u001b[39mif\u001b[39;00m vmin \u001b[39mis\u001b[39;00m \u001b[39mNone\u001b[39;00m:\n\u001b[0;32m    199\u001b[0m     \u001b[39mif\u001b[39;00m robust:\n",
      "\u001b[1;31mValueError\u001b[0m: could not convert string to float: '   2\\t2.993791e-01\\t2.647641e+06\\t1.777979e+07'"
     ]
    },
    {
     "data": {
      "image/png": "[encoded data removed]",
      "text/plain": [
       "<Figure size 1000x800 with 1 Axes>"
      ]
     },
     "metadata": {},
     "output_type": "display_data"
    }
   ],
   "source": [
    "columnas_valiables = get_columnas_variable(df_grid)\n",
    "if df_grid.duplicated(subset=[columnas_valiables[0], columnas_valiables[1]]).any():\n",
    "    print(\"Hay duplicados en las columnas especificadas.\")\n",
    "    df_grid = df_grid.drop_duplicates(subset=[columnas_valiables[0], columnas_valiables[1]])\n",
    "\n",
    "\n",
    "\n",
    "df_grid = get_best_fitness(df_grid,path)\n",
    "\n",
    "df_grid_pivot = df_grid.pivot(index=columnas_valiables[0], columns=columnas_valiables[1], values='mean best fitness')\n",
    "\n",
    "\n",
    "fig, axis = plt.subplots(1,1, figsize=(10,8))\n",
    "sns.heatmap(df_grid_pivot,ax=axis)\n",
    "plt.title('Error en obtener un expresión para coeficiente de arrastre en función \\n del tamaño de población y la cantidad de generaciones',fontsize=16)\n",
    "plt.xlabel('Tamaño de población',fontsize=14)\n",
    "plt.ylabel('Cantidad de generaciones',fontsize=14)\n"
   ]
  },
  {
   "cell_type": "code",
   "execution_count": 17,
   "metadata": {},
   "outputs": [
    {
     "data": {
      "text/plain": [
       "'fitness'"
      ]
     },
     "execution_count": 17,
     "metadata": {},
     "output_type": "execute_result"
    }
   ],
   "source": [
    "columnas_valiables[0]"
   ]
  },
  {
   "cell_type": "code",
   "execution_count": 18,
   "metadata": {},
   "outputs": [
    {
     "data": {
      "text/plain": [
       "'tree_depth'"
      ]
     },
     "execution_count": 18,
     "metadata": {},
     "output_type": "execute_result"
    }
   ],
   "source": [
    "columnas_valiables[1]"
   ]
  },
  {
   "cell_type": "code",
   "execution_count": 23,
   "metadata": {},
   "outputs": [],
   "source": [
    "import random\n",
    "from numpy import cos, sin\n",
    "from sge.utilities.protected_math import _log_, _div_, _exp_, _inv_, _sqrt_, protdiv\n",
    "from sge.engine import setup\n",
    "import sge\n",
    "import argparse\n",
    "import pandas as pd\n",
    "import numpy as np\n",
    "from sklearn.metrics import mean_squared_error\n",
    "\n",
    "import warnings\n",
    "warnings.filterwarnings('ignore')\n",
    "\n",
    "\n",
    "class SymbolicRegression:\n",
    "    \"\"\"\n",
    "    Clase diseñada para realizar regresión simbólica enfocada en modelar el coeficiente de arrastre (cdrag) \n",
    "    como una función de las características de diferentes configuraciones de paquetes de baterías.\n",
    "    Los datos se agrupan por la cantidad de celdas en el paquete de baterías.\n",
    "    \"\"\"\n",
    "    \n",
    "    def __init__(self, has_test_set=False, invalid_fitness=9999999):\n",
    "        \"\"\"\n",
    "        Inicializa la clase SymbolicRegression con valores por defecto.\n",
    "\n",
    "        :param has_test_set: No se usa actualmente. Indicaría si hay un conjunto de pruebas disponible.\n",
    "        :param invalid_fitness: Valor que se usa para la aptitud cuando la evaluación de un individuo falla.\n",
    "        \"\"\"\n",
    "        self.__invalid_fitness = invalid_fitness\n",
    "        self.read_fit_cases()\n",
    "\n",
    "    def read_fit_cases(self):\n",
    "        \"\"\"\n",
    "        Lee y procesa los casos de ajuste de los archivos txt, correspondientes a los datos de coeficiente de arrastre \n",
    "        para paquetes de baterías con diferente número de celdas. Prepara los datos para el entrenamiento y la validación.\n",
    "        \"\"\"\n",
    "        # Carga y muestreo aleatorio de los datos para un paquete de baterías de 25 celdas\n",
    "        self.df_25 = pd.read_csv('resources/LIB/CI/df_cdrag_25.txt', sep=',').sample(n=1000, random_state=1)\n",
    "        self.X_25 = self.df_25.values[:, :-1]\n",
    "        self.Y_25 = self.df_25.values[:, -1]\n",
    "        \n",
    "        # Carga y muestreo aleatorio de los datos para un paquete de baterías de 53 celdas\n",
    "        self.df_53 = pd.read_csv('resources/LIB/CI/df_cdrag_53.txt', sep=',').sample(n=1000, random_state=1)\n",
    "        self.X_53 = self.df_53.values[:, :-1]\n",
    "        self.Y_53 = self.df_53.values[:, -1]\n",
    "        \n",
    "        # Carga y muestreo aleatorio de los datos para un paquete de baterías de 74 celdas\n",
    "        self.df_74 = pd.read_csv('resources/LIB/CI/df_cdrag_74.txt', sep=',').sample(n=1000, random_state=1)\n",
    "        self.X_74 = self.df_74.values[:, :-1]\n",
    "        self.Y_74 = self.df_74.values[:, -1]\n",
    "        \n",
    "        # Carga y muestreo aleatorio de los datos para un paquete de baterías de 102 celdas\n",
    "        self.df_102 = pd.read_csv('resources/LIB/CI/df_cdrag_102.txt', sep=',').sample(n=1000, random_state=1)\n",
    "        self.X_102 = self.df_102.values[:, :-1]\n",
    "        self.Y_102 = self.df_102.values[:, -1]\n",
    "\n",
    "    def get_error(self, individual, Y_train, dataset):\n",
    "        \"\"\"\n",
    "        Evalúa un individuo (expresión matemática) calculando el error cuadrático medio entre las predicciones y \n",
    "        los valores reales del coeficiente de arrastre para un conjunto de datos específico de paquetes de baterías.\n",
    "\n",
    "        :param individual: Expresión del individuo a evaluar como una cadena de texto.\n",
    "        :param Y_train: Valores reales del coeficiente de arrastre (cdrag) para el conjunto de datos.\n",
    "        :param dataset: Características del conjunto de datos (sin incluir el cdrag).\n",
    "        :return: Error cuadrático medio o un valor de aptitud inválido si la evaluación falla.\n",
    "        \"\"\"\n",
    "        try:\n",
    "            # print(f'get_error - individuo: {individual}')\n",
    "            # Evaluar la expresión del individuo en el contexto de los datos de entrada\n",
    "            Y_pred = list(map(lambda x: eval(individual), dataset))\n",
    "            # Calcular el error cuadrático medio (MSE) para las predicciones\n",
    "            error = mean_squared_error(Y_train, Y_pred, squared=False)\n",
    "        except Exception as e:\n",
    "            # Manejo de errores en la evaluación del individuo\n",
    "            print(f\"Error evaluating individual: {e}\")\n",
    "            print(f'individuo que genera error: {individual}')\n",
    "            error = self.__invalid_fitness\n",
    "        \n",
    "        # Asignar un valor de error inválido si el error es None\n",
    "        if error is None:\n",
    "            error = self.__invalid_fitness\n",
    "        \n",
    "        return error\n",
    "\n",
    "    def evaluate(self, individual):\n",
    "        \"\"\"\n",
    "        Evalúa la aptitud de un individuo en varios conjuntos de datos representando diferentes configuraciones de paquetes \n",
    "        de baterías y calcula la aptitud general basada en el error de predicción del coeficiente de arrastre.\n",
    "\n",
    "        :param individual: La expresión matemática del individuo a evaluar.\n",
    "        :return: Una tupla que contiene la aptitud para el conjunto de 25 celdas y la aptitud promedio para los conjuntos \n",
    "                 de 53, 74 y 102 celdas, junto con un diccionario que detalla la aptitud para cada configuración.\n",
    "        \"\"\"\n",
    "        if individual is None:\n",
    "            return self.__invalid_fitness\n",
    "        print(f\"cdrag.evaluate - se evaluara individuo: {individual}\")\n",
    "        # Calcular el error para cada configuración de paquete de baterías\n",
    "        error_25 = self.get_error(individual, self.Y_25, np.concatenate((eval_func.X_25, eval_func.X_74)))\n",
    "        error_53 = self.get_error(individual, self.Y_53, self.X_53)\n",
    "        error_74 = self.get_error(individual, self.Y_74, self.X_74)\n",
    "        error_102 = self.get_error(individual, self.Y_102, self.X_102)\n",
    "        \n",
    "        # Uso del error del conjunto de 25 celdas como aptitud de entrenamiento\n",
    "        fitness_train = error_25\n",
    "        # Calcular la aptitud promedio para los conjuntos de validación\n",
    "        fitness_val = np.mean([error_53, error_74, error_102])\n",
    "        \n",
    "        # Devolver la aptitud de entrenamiento, de validación y un diccionario detallado\n",
    "        return fitness_train, fitness_val, {\n",
    "            'fitness 25': error_25,\n",
    "            'fitness 53': error_53,\n",
    "            'fitness 74': error_74,\n",
    "            'fitness 102': error_102\n",
    "        }\n",
    "\n",
    "eval_func = SymbolicRegression()"
   ]
  },
  {
   "cell_type": "code",
   "execution_count": 24,
   "metadata": {},
   "outputs": [
    {
     "data": {
      "text/plain": [
       "array([[1.20000000e+00, 6.39557978e+03],\n",
       "       [6.00000000e-01, 1.70770738e+03],\n",
       "       [6.00000000e-01, 3.22630909e+02],\n",
       "       ...,\n",
       "       [6.00000000e-01, 1.93489789e+03],\n",
       "       [1.20000000e+00, 2.32759797e+03],\n",
       "       [6.00000000e-01, 1.24756328e+03]])"
      ]
     },
     "execution_count": 24,
     "metadata": {},
     "output_type": "execute_result"
    }
   ],
   "source": [
    "eval_func.X_102"
   ]
  },
  {
   "cell_type": "code",
   "execution_count": 27,
   "metadata": {},
   "outputs": [
    {
     "data": {
      "text/plain": [
       "array([[1.10800000e+00, 2.47970245e+03],\n",
       "       [1.20000000e+00, 2.31529765e+03],\n",
       "       [7.16000000e-01, 2.74408209e+03],\n",
       "       ...,\n",
       "       [6.00000000e-01, 3.63641189e+03],\n",
       "       [6.00000000e-01, 4.72070765e+03],\n",
       "       [1.15700000e+00, 2.45129933e+03]])"
      ]
     },
     "execution_count": 27,
     "metadata": {},
     "output_type": "execute_result"
    }
   ],
   "source": [
    "eval_func.X_25"
   ]
  },
  {
   "cell_type": "code",
   "execution_count": 29,
   "metadata": {},
   "outputs": [
    {
     "data": {
      "text/plain": [
       "1000"
      ]
     },
     "execution_count": 29,
     "metadata": {},
     "output_type": "execute_result"
    }
   ],
   "source": [
    "len(eval_func.X_74)"
   ]
  },
  {
   "cell_type": "code",
   "execution_count": 30,
   "metadata": {},
   "outputs": [
    {
     "data": {
      "text/plain": [
       "2000"
      ]
     },
     "execution_count": 30,
     "metadata": {},
     "output_type": "execute_result"
    }
   ],
   "source": [
    "len(np.concatenate((eval_func.X_25, eval_func.X_74)))"
   ]
  }
 ],
 "metadata": {
  "kernelspec": {
   "display_name": "env",
   "language": "python",
   "name": "python3"
  },
  "language_info": {
   "codemirror_mode": {
    "name": "ipython",
    "version": 3
   },
   "file_extension": ".py",
   "mimetype": "text/x-python",
   "name": "python",
   "nbconvert_exporter": "python",
   "pygments_lexer": "ipython3",
   "version": "3.11.1"
  }
 },
 "nbformat": 4,
 "nbformat_minor": 2
}
