{
 "cells": [
  {
   "cell_type": "code",
   "execution_count": 4,
   "metadata": {},
   "outputs": [],
   "source": [
    "import pandas as pd\n",
    "import os"
   ]
  },
  {
   "cell_type": "code",
   "execution_count": 12,
   "metadata": {},
   "outputs": [],
   "source": [
    "# Función para dividir los dataframes\n",
    "def dividir_dataframe(df, choice=1,coef = None):\n",
    "    # Separación visual según gráfico\n",
    "    if choice == 1:\n",
    "        df_1 = df.loc[(df['Rem'] >= 0) & (df['Rem'] <= 4000)]\n",
    "        df_2 = df.loc[(df['Rem'] > 4000) & (df['Rem'] <= 6000)]\n",
    "        df_3 = df.loc[df['Rem'] > 6000]\n",
    "        return df_1, df_2, df_3\n",
    "    #Flujo laminar vs Turbulento\n",
    "    elif choice == 2:\n",
    "        df_1 = df.loc[(df['Rem'] >= 0) & (df['Rem'] <= 2000)]\n",
    "        df_2 = df.loc[(df['Rem'] > 2000)]\n",
    "        return df_1, df_2\n",
    "    elif choice == 3:\n",
    "        df_1 = df.loc[(df['Rem'] >= 0) & (df['Rem'] <= 3200)]\n",
    "        df_2 = df.loc[(df['Rem'] > 3200)]\n",
    "        return df_1, df_2\n",
    "    elif choice == 4 and coef == \"cdrag\":\n",
    "        df_1 = df.loc[(df['K'] >= 0) & (df['K'] <= 0.826)]\n",
    "        df_2 = df.loc[(df['K'] > 0.826)]\n",
    "        return df_1, df_2\n",
    "    elif choice == 4 and coef == \"ff\":\n",
    "        df_1 = df.loc[(df['K'] >= 0) & (df['K'] <= 0.753)]\n",
    "        df_2 = df.loc[(df['K'] > 0.753)]\n",
    "        return df_1, df_2\n",
    "    elif choice == 4 and coef == \"n\":\n",
    "        df_1 = df.loc[(df['Rem'] >= 0) & (df['Rem'] <= 2000)]\n",
    "        df_2 = df.loc[(df['Rem'] > 2000)]\n",
    "        return df_1, df_2"
   ]
  },
  {
   "cell_type": "markdown",
   "metadata": {},
   "source": [
    "# Opcion 1"
   ]
  },
  {
   "cell_type": "markdown",
   "metadata": {},
   "source": [
    "## cdrag"
   ]
  },
  {
   "cell_type": "code",
   "execution_count": 5,
   "metadata": {},
   "outputs": [],
   "source": [
    "# Carga de los datos\n",
    "df_25 = pd.read_csv('resources/LIB/CI/df_cdrag_25.txt', sep=',')\n",
    "df_53 = pd.read_csv('resources/LIB/CI/df_cdrag_53.txt', sep=',')\n",
    "df_74 = pd.read_csv('resources/LIB/CI/df_cdrag_74.txt', sep=',')\n",
    "df_102 = pd.read_csv('resources/LIB/CI/df_cdrag_102.txt', sep=',')"
   ]
  },
  {
   "cell_type": "code",
   "execution_count": 17,
   "metadata": {},
   "outputs": [],
   "source": [
    "# División de los DataFrames\n",
    "df_25_1, df_25_2, df_25_3 = dividir_dataframe(df_25)\n",
    "df_53_1, df_53_2, df_53_3 = dividir_dataframe(df_53)\n",
    "df_74_1, df_74_2, df_74_3 = dividir_dataframe(df_74)\n",
    "df_102_1, df_102_2, df_102_3 = dividir_dataframe(df_102)\n",
    "\n",
    "# Exportación de los segmentos a archivos .txt\n",
    "df_25_1.to_csv('resources/LIB/CI/df_cdrag_25_1.txt', sep=',', index=False)\n",
    "df_25_2.to_csv('resources/LIB/CI/df_cdrag_25_2.txt', sep=',', index=False)\n",
    "df_25_3.to_csv('resources/LIB/CI/df_cdrag_25_3.txt', sep=',', index=False)\n",
    "\n",
    "df_53_1.to_csv('resources/LIB/CI/df_cdrag_53_1.txt', sep=',', index=False)\n",
    "df_53_2.to_csv('resources/LIB/CI/df_cdrag_53_2.txt', sep=',', index=False)\n",
    "df_53_3.to_csv('resources/LIB/CI/df_cdrag_53_3.txt', sep=',', index=False)\n",
    "\n",
    "df_74_1.to_csv('resources/LIB/CI/df_cdrag_74_1.txt', sep=',', index=False)\n",
    "df_74_2.to_csv('resources/LIB/CI/df_cdrag_74_2.txt', sep=',', index=False)\n",
    "df_74_3.to_csv('resources/LIB/CI/df_cdrag_74_3.txt', sep=',', index=False)\n",
    "\n",
    "df_102_1.to_csv('resources/LIB/CI/df_cdrag_102_1.txt', sep=',', index=False)\n",
    "df_102_2.to_csv('resources/LIB/CI/df_cdrag_102_2.txt', sep=',', index=False)\n",
    "df_102_3.to_csv('resources/LIB/CI/df_cdrag_102_3.txt', sep=',', index=False)\n"
   ]
  },
  {
   "cell_type": "markdown",
   "metadata": {},
   "source": [
    "## ff"
   ]
  },
  {
   "cell_type": "code",
   "execution_count": 9,
   "metadata": {},
   "outputs": [],
   "source": [
    "# Carga de los datos\n",
    "df_25 = pd.read_csv('resources/LIB/CI/df_ff_25.txt', sep=',')\n",
    "df_53 = pd.read_csv('resources/LIB/CI/df_ff_53.txt', sep=',')\n",
    "df_74 = pd.read_csv('resources/LIB/CI/df_ff_74.txt', sep=',')\n",
    "df_102 = pd.read_csv('resources/LIB/CI/df_ff_102.txt', sep=',')"
   ]
  },
  {
   "cell_type": "code",
   "execution_count": 18,
   "metadata": {},
   "outputs": [],
   "source": [
    "# División de los DataFrames\n",
    "df_25_1, df_25_2, df_25_3 = dividir_dataframe(df_25)\n",
    "df_53_1, df_53_2, df_53_3 = dividir_dataframe(df_53)\n",
    "df_74_1, df_74_2, df_74_3 = dividir_dataframe(df_74)\n",
    "df_102_1, df_102_2, df_102_3 = dividir_dataframe(df_102)\n",
    "\n",
    "# Exportación de los segmentos a archivos .txt\n",
    "df_25_1.to_csv('resources/LIB/CI/df_ff_25_1.txt', sep=',', index=False)\n",
    "df_25_2.to_csv('resources/LIB/CI/df_ff_25_2.txt', sep=',', index=False)\n",
    "df_25_3.to_csv('resources/LIB/CI/df_ff_25_3.txt', sep=',', index=False)\n",
    "\n",
    "df_53_1.to_csv('resources/LIB/CI/df_ff_53_1.txt', sep=',', index=False)\n",
    "df_53_2.to_csv('resources/LIB/CI/df_ff_53_2.txt', sep=',', index=False)\n",
    "df_53_3.to_csv('resources/LIB/CI/df_ff_53_3.txt', sep=',', index=False)\n",
    "\n",
    "df_74_1.to_csv('resources/LIB/CI/df_ff_74_1.txt', sep=',', index=False)\n",
    "df_74_2.to_csv('resources/LIB/CI/df_ff_74_2.txt', sep=',', index=False)\n",
    "df_74_3.to_csv('resources/LIB/CI/df_ff_74_3.txt', sep=',', index=False)\n",
    "\n",
    "df_102_1.to_csv('resources/LIB/CI/df_ff_102_1.txt', sep=',', index=False)\n",
    "df_102_2.to_csv('resources/LIB/CI/df_ff_102_2.txt', sep=',', index=False)\n",
    "df_102_3.to_csv('resources/LIB/CI/df_ff_102_3.txt', sep=',', index=False)"
   ]
  },
  {
   "cell_type": "markdown",
   "metadata": {},
   "source": [
    "## n"
   ]
  },
  {
   "cell_type": "code",
   "execution_count": 14,
   "metadata": {},
   "outputs": [],
   "source": [
    "# Carga de los datos\n",
    "df_25 = pd.read_csv('resources/LIB/CI/df_n_25.txt', sep=',')\n",
    "df_53 = pd.read_csv('resources/LIB/CI/df_n_53.txt', sep=',')\n",
    "df_74 = pd.read_csv('resources/LIB/CI/df_n_74.txt', sep=',')\n",
    "df_102 = pd.read_csv('resources/LIB/CI/df_n_102.txt', sep=',')"
   ]
  },
  {
   "cell_type": "code",
   "execution_count": 19,
   "metadata": {},
   "outputs": [],
   "source": [
    "# División de los DataFrames\n",
    "df_25_1, df_25_2, df_25_3 = dividir_dataframe(df_25)\n",
    "df_53_1, df_53_2, df_53_3 = dividir_dataframe(df_53)\n",
    "df_74_1, df_74_2, df_74_3 = dividir_dataframe(df_74)\n",
    "df_102_1, df_102_2, df_102_3 = dividir_dataframe(df_102)\n",
    "\n",
    "# Exportación de los segmentos a archivos .txt\n",
    "df_25_1.to_csv('resources/LIB/CI/df_n_25_1.txt', sep=',', index=False)\n",
    "df_25_2.to_csv('resources/LIB/CI/df_n_25_2.txt', sep=',', index=False)\n",
    "df_25_3.to_csv('resources/LIB/CI/df_n_25_3.txt', sep=',', index=False)\n",
    "\n",
    "df_53_1.to_csv('resources/LIB/CI/df_n_53_1.txt', sep=',', index=False)\n",
    "df_53_2.to_csv('resources/LIB/CI/df_n_53_2.txt', sep=',', index=False)\n",
    "df_53_3.to_csv('resources/LIB/CI/df_n_53_3.txt', sep=',', index=False)\n",
    "\n",
    "df_74_1.to_csv('resources/LIB/CI/df_n_74_1.txt', sep=',', index=False)\n",
    "df_74_2.to_csv('resources/LIB/CI/df_n_74_2.txt', sep=',', index=False)\n",
    "df_74_3.to_csv('resources/LIB/CI/df_n_74_3.txt', sep=',', index=False)\n",
    "\n",
    "df_102_1.to_csv('resources/LIB/CI/df_n_102_1.txt', sep=',', index=False)\n",
    "df_102_2.to_csv('resources/LIB/CI/df_n_102_2.txt', sep=',', index=False)\n",
    "df_102_3.to_csv('resources/LIB/CI/df_n_102_3.txt', sep=',', index=False)"
   ]
  },
  {
   "cell_type": "markdown",
   "metadata": {},
   "source": [
    "# Opcion 2"
   ]
  },
  {
   "cell_type": "markdown",
   "metadata": {},
   "source": [
    "## cdrag"
   ]
  },
  {
   "cell_type": "code",
   "execution_count": 22,
   "metadata": {},
   "outputs": [],
   "source": [
    "# Carga de los datos\n",
    "df_25 = pd.read_csv('resources/LIB/CI/df_cdrag_25.txt', sep=',')\n",
    "df_53 = pd.read_csv('resources/LIB/CI/df_cdrag_53.txt', sep=',')\n",
    "df_74 = pd.read_csv('resources/LIB/CI/df_cdrag_74.txt', sep=',')\n",
    "df_102 = pd.read_csv('resources/LIB/CI/df_cdrag_102.txt', sep=',')"
   ]
  },
  {
   "cell_type": "code",
   "execution_count": 23,
   "metadata": {},
   "outputs": [],
   "source": [
    "import os\n",
    "\n",
    "# Crear el directorio si no existe\n",
    "directory = 'resources/LIB/CI2'\n",
    "if not os.path.exists(directory):\n",
    "    os.makedirs(directory)"
   ]
  },
  {
   "cell_type": "code",
   "execution_count": 24,
   "metadata": {},
   "outputs": [],
   "source": [
    "coef = \"cdrag\"\n",
    "# División de los DataFrames\n",
    "df_25_1, df_25_2 = dividir_dataframe(df_25, choice=2)\n",
    "df_53_1, df_53_2 = dividir_dataframe(df_53, choice=2)\n",
    "df_74_1, df_74_2 = dividir_dataframe(df_74, choice=2)\n",
    "df_102_1, df_102_2 = dividir_dataframe(df_102, choice=2)\n",
    "\n",
    "# Exportación de los segmentos a archivos .txt (CSV en realidad)\n",
    "df_25_1.to_csv(f'{directory}/df_{coef}_25_1.txt', sep=',', index=False)\n",
    "df_25_2.to_csv(f'{directory}/df_{coef}_25_2.txt', sep=',', index=False)\n",
    "\n",
    "df_53_1.to_csv(f'{directory}/df_{coef}_53_1.txt', sep=',', index=False)\n",
    "df_53_2.to_csv(f'{directory}/df_{coef}_53_2.txt', sep=',', index=False)\n",
    "\n",
    "df_74_1.to_csv(f'{directory}/df_{coef}_74_1.txt', sep=',', index=False)\n",
    "df_74_2.to_csv(f'{directory}/df_{coef}_74_2.txt', sep=',', index=False)\n",
    "\n",
    "df_102_1.to_csv(f'{directory}/df_{coef}_102_1.txt', sep=',', index=False)\n",
    "df_102_2.to_csv(f'{directory}/df_{coef}_102_2.txt', sep=',', index=False)\n"
   ]
  },
  {
   "cell_type": "markdown",
   "metadata": {},
   "source": [
    "## ff"
   ]
  },
  {
   "cell_type": "code",
   "execution_count": 25,
   "metadata": {},
   "outputs": [],
   "source": [
    "# Carga de los datos\n",
    "df_25 = pd.read_csv('resources/LIB/CI/df_ff_25.txt', sep=',')\n",
    "df_53 = pd.read_csv('resources/LIB/CI/df_ff_53.txt', sep=',')\n",
    "df_74 = pd.read_csv('resources/LIB/CI/df_ff_74.txt', sep=',')\n",
    "df_102 = pd.read_csv('resources/LIB/CI/df_ff_102.txt', sep=',')"
   ]
  },
  {
   "cell_type": "code",
   "execution_count": 26,
   "metadata": {},
   "outputs": [],
   "source": [
    "coef = \"ff\"\n",
    "# División de los DataFrames\n",
    "df_25_1, df_25_2 = dividir_dataframe(df_25, choice=2)\n",
    "df_53_1, df_53_2 = dividir_dataframe(df_53, choice=2)\n",
    "df_74_1, df_74_2 = dividir_dataframe(df_74, choice=2)\n",
    "df_102_1, df_102_2 = dividir_dataframe(df_102, choice=2)\n",
    "\n",
    "# Exportación de los segmentos a archivos .txt (CSV en realidad)\n",
    "df_25_1.to_csv(f'{directory}/df_{coef}_25_1.txt', sep=',', index=False)\n",
    "df_25_2.to_csv(f'{directory}/df_{coef}_25_2.txt', sep=',', index=False)\n",
    "\n",
    "df_53_1.to_csv(f'{directory}/df_{coef}_53_1.txt', sep=',', index=False)\n",
    "df_53_2.to_csv(f'{directory}/df_{coef}_53_2.txt', sep=',', index=False)\n",
    "\n",
    "df_74_1.to_csv(f'{directory}/df_{coef}_74_1.txt', sep=',', index=False)\n",
    "df_74_2.to_csv(f'{directory}/df_{coef}_74_2.txt', sep=',', index=False)\n",
    "\n",
    "df_102_1.to_csv(f'{directory}/df_{coef}_102_1.txt', sep=',', index=False)\n",
    "df_102_2.to_csv(f'{directory}/df_{coef}_102_2.txt', sep=',', index=False)\n"
   ]
  },
  {
   "cell_type": "markdown",
   "metadata": {},
   "source": [
    "## n"
   ]
  },
  {
   "cell_type": "code",
   "execution_count": 27,
   "metadata": {},
   "outputs": [],
   "source": [
    "# Carga de los datos\n",
    "df_25 = pd.read_csv('resources/LIB/CI/df_n_25.txt', sep=',')\n",
    "df_53 = pd.read_csv('resources/LIB/CI/df_n_53.txt', sep=',')\n",
    "df_74 = pd.read_csv('resources/LIB/CI/df_n_74.txt', sep=',')\n",
    "df_102 = pd.read_csv('resources/LIB/CI/df_n_102.txt', sep=',')"
   ]
  },
  {
   "cell_type": "code",
   "execution_count": 28,
   "metadata": {},
   "outputs": [],
   "source": [
    "coef = \"n\"\n",
    "# División de los DataFrames\n",
    "df_25_1, df_25_2 = dividir_dataframe(df_25, choice=2)\n",
    "df_53_1, df_53_2 = dividir_dataframe(df_53, choice=2)\n",
    "df_74_1, df_74_2 = dividir_dataframe(df_74, choice=2)\n",
    "df_102_1, df_102_2 = dividir_dataframe(df_102, choice=2)\n",
    "\n",
    "# Exportación de los segmentos a archivos .txt (CSV en realidad)\n",
    "df_25_1.to_csv(f'{directory}/df_{coef}_25_1.txt', sep=',', index=False)\n",
    "df_25_2.to_csv(f'{directory}/df_{coef}_25_2.txt', sep=',', index=False)\n",
    "\n",
    "df_53_1.to_csv(f'{directory}/df_{coef}_53_1.txt', sep=',', index=False)\n",
    "df_53_2.to_csv(f'{directory}/df_{coef}_53_2.txt', sep=',', index=False)\n",
    "\n",
    "df_74_1.to_csv(f'{directory}/df_{coef}_74_1.txt', sep=',', index=False)\n",
    "df_74_2.to_csv(f'{directory}/df_{coef}_74_2.txt', sep=',', index=False)\n",
    "\n",
    "df_102_1.to_csv(f'{directory}/df_{coef}_102_1.txt', sep=',', index=False)\n",
    "df_102_2.to_csv(f'{directory}/df_{coef}_102_2.txt', sep=',', index=False)\n"
   ]
  },
  {
   "cell_type": "markdown",
   "metadata": {},
   "source": [
    "# Opcion 3"
   ]
  },
  {
   "cell_type": "markdown",
   "metadata": {},
   "source": [
    "## cdrag"
   ]
  },
  {
   "cell_type": "code",
   "execution_count": 13,
   "metadata": {},
   "outputs": [],
   "source": [
    "# Carga de los datos\n",
    "df_25 = pd.read_csv('resources/LIB/CI/df_cdrag_25.txt', sep=',')\n",
    "df_53 = pd.read_csv('resources/LIB/CI/df_cdrag_53.txt', sep=',')\n",
    "df_74 = pd.read_csv('resources/LIB/CI/df_cdrag_74.txt', sep=',')\n",
    "df_102 = pd.read_csv('resources/LIB/CI/df_cdrag_102.txt', sep=',')"
   ]
  },
  {
   "cell_type": "code",
   "execution_count": 14,
   "metadata": {},
   "outputs": [],
   "source": [
    "# Crear el directorio si no existe\n",
    "directory = 'resources/LIB/CI3'\n",
    "if not os.path.exists(directory):\n",
    "    os.makedirs(directory)"
   ]
  },
  {
   "cell_type": "code",
   "execution_count": 15,
   "metadata": {},
   "outputs": [],
   "source": [
    "coef = \"cdrag\"\n",
    "# División de los DataFrames\n",
    "df_25_1, df_25_2 = dividir_dataframe(df_25, choice=3)\n",
    "df_53_1, df_53_2 = dividir_dataframe(df_53, choice=3)\n",
    "df_74_1, df_74_2 = dividir_dataframe(df_74, choice=3)\n",
    "df_102_1, df_102_2 = dividir_dataframe(df_102, choice=3)\n",
    "\n",
    "# Exportación de los segmentos a archivos .txt (CSV en realidad)\n",
    "df_25_1.to_csv(f'{directory}/df_{coef}_25_1.txt', sep=',', index=False)\n",
    "df_25_2.to_csv(f'{directory}/df_{coef}_25_2.txt', sep=',', index=False)\n",
    "\n",
    "df_53_1.to_csv(f'{directory}/df_{coef}_53_1.txt', sep=',', index=False)\n",
    "df_53_2.to_csv(f'{directory}/df_{coef}_53_2.txt', sep=',', index=False)\n",
    "\n",
    "df_74_1.to_csv(f'{directory}/df_{coef}_74_1.txt', sep=',', index=False)\n",
    "df_74_2.to_csv(f'{directory}/df_{coef}_74_2.txt', sep=',', index=False)\n",
    "\n",
    "df_102_1.to_csv(f'{directory}/df_{coef}_102_1.txt', sep=',', index=False)\n",
    "df_102_2.to_csv(f'{directory}/df_{coef}_102_2.txt', sep=',', index=False)\n"
   ]
  },
  {
   "cell_type": "markdown",
   "metadata": {},
   "source": [
    "## ff"
   ]
  },
  {
   "cell_type": "code",
   "execution_count": 16,
   "metadata": {},
   "outputs": [],
   "source": [
    "# Carga de los datos\n",
    "df_25 = pd.read_csv('resources/LIB/CI/df_ff_25.txt', sep=',')\n",
    "df_53 = pd.read_csv('resources/LIB/CI/df_ff_53.txt', sep=',')\n",
    "df_74 = pd.read_csv('resources/LIB/CI/df_ff_74.txt', sep=',')\n",
    "df_102 = pd.read_csv('resources/LIB/CI/df_ff_102.txt', sep=',')"
   ]
  },
  {
   "cell_type": "code",
   "execution_count": 17,
   "metadata": {},
   "outputs": [],
   "source": [
    "coef = \"ff\"\n",
    "# División de los DataFrames\n",
    "df_25_1, df_25_2 = dividir_dataframe(df_25, choice=3)\n",
    "df_53_1, df_53_2 = dividir_dataframe(df_53, choice=3)\n",
    "df_74_1, df_74_2 = dividir_dataframe(df_74, choice=3)\n",
    "df_102_1, df_102_2 = dividir_dataframe(df_102, choice=3)\n",
    "\n",
    "# Exportación de los segmentos a archivos .txt (CSV en realidad)\n",
    "df_25_1.to_csv(f'{directory}/df_{coef}_25_1.txt', sep=',', index=False)\n",
    "df_25_2.to_csv(f'{directory}/df_{coef}_25_2.txt', sep=',', index=False)\n",
    "\n",
    "df_53_1.to_csv(f'{directory}/df_{coef}_53_1.txt', sep=',', index=False)\n",
    "df_53_2.to_csv(f'{directory}/df_{coef}_53_2.txt', sep=',', index=False)\n",
    "\n",
    "df_74_1.to_csv(f'{directory}/df_{coef}_74_1.txt', sep=',', index=False)\n",
    "df_74_2.to_csv(f'{directory}/df_{coef}_74_2.txt', sep=',', index=False)\n",
    "\n",
    "df_102_1.to_csv(f'{directory}/df_{coef}_102_1.txt', sep=',', index=False)\n",
    "df_102_2.to_csv(f'{directory}/df_{coef}_102_2.txt', sep=',', index=False)\n"
   ]
  },
  {
   "cell_type": "markdown",
   "metadata": {},
   "source": [
    "## n"
   ]
  },
  {
   "cell_type": "code",
   "execution_count": 18,
   "metadata": {},
   "outputs": [],
   "source": [
    "# Carga de los datos\n",
    "df_25 = pd.read_csv('resources/LIB/CI/df_n_25.txt', sep=',')\n",
    "df_53 = pd.read_csv('resources/LIB/CI/df_n_53.txt', sep=',')\n",
    "df_74 = pd.read_csv('resources/LIB/CI/df_n_74.txt', sep=',')\n",
    "df_102 = pd.read_csv('resources/LIB/CI/df_n_102.txt', sep=',')"
   ]
  },
  {
   "cell_type": "code",
   "execution_count": 19,
   "metadata": {},
   "outputs": [],
   "source": [
    "coef = \"n\"\n",
    "# División de los DataFrames\n",
    "df_25_1, df_25_2 = dividir_dataframe(df_25, choice=3)\n",
    "df_53_1, df_53_2 = dividir_dataframe(df_53, choice=3)\n",
    "df_74_1, df_74_2 = dividir_dataframe(df_74, choice=3)\n",
    "df_102_1, df_102_2 = dividir_dataframe(df_102, choice=3)\n",
    "\n",
    "# Exportación de los segmentos a archivos .txt (CSV en realidad)\n",
    "df_25_1.to_csv(f'{directory}/df_{coef}_25_1.txt', sep=',', index=False)\n",
    "df_25_2.to_csv(f'{directory}/df_{coef}_25_2.txt', sep=',', index=False)\n",
    "\n",
    "df_53_1.to_csv(f'{directory}/df_{coef}_53_1.txt', sep=',', index=False)\n",
    "df_53_2.to_csv(f'{directory}/df_{coef}_53_2.txt', sep=',', index=False)\n",
    "\n",
    "df_74_1.to_csv(f'{directory}/df_{coef}_74_1.txt', sep=',', index=False)\n",
    "df_74_2.to_csv(f'{directory}/df_{coef}_74_2.txt', sep=',', index=False)\n",
    "\n",
    "df_102_1.to_csv(f'{directory}/df_{coef}_102_1.txt', sep=',', index=False)\n",
    "df_102_2.to_csv(f'{directory}/df_{coef}_102_2.txt', sep=',', index=False)\n"
   ]
  },
  {
   "cell_type": "markdown",
   "metadata": {},
   "source": [
    "# Opcion 4"
   ]
  },
  {
   "cell_type": "markdown",
   "metadata": {},
   "source": [
    "## cdrag"
   ]
  },
  {
   "cell_type": "code",
   "execution_count": null,
   "metadata": {},
   "outputs": [],
   "source": [
    "# Carga de los datos\n",
    "df_25 = pd.read_csv('resources/LIB/CI/df_cdrag_25.txt', sep=',')\n",
    "df_53 = pd.read_csv('resources/LIB/CI/df_cdrag_53.txt', sep=',')\n",
    "df_74 = pd.read_csv('resources/LIB/CI/df_cdrag_74.txt', sep=',')\n",
    "df_102 = pd.read_csv('resources/LIB/CI/df_cdrag_102.txt', sep=',')"
   ]
  },
  {
   "cell_type": "code",
   "execution_count": null,
   "metadata": {},
   "outputs": [],
   "source": [
    "# Crear el directorio si no existe\n",
    "directory = 'resources/LIB/CI4'\n",
    "if not os.path.exists(directory):\n",
    "    os.makedirs(directory)"
   ]
  },
  {
   "cell_type": "code",
   "execution_count": null,
   "metadata": {},
   "outputs": [],
   "source": [
    "coef = \"cdrag\"\n",
    "# División de los DataFrames\n",
    "df_25_1, df_25_2 = dividir_dataframe(df_25, choice=4,coef=coef)\n",
    "df_53_1, df_53_2 = dividir_dataframe(df_53, choice=4,coef=coef)\n",
    "df_74_1, df_74_2 = dividir_dataframe(df_74, choice=4,coef=coef)\n",
    "df_102_1, df_102_2 = dividir_dataframe(df_102, choice=4,coef=coef)\n",
    "\n",
    "# Exportación de los segmentos a archivos .txt (CSV en realidad)\n",
    "df_25_1.to_csv(f'{directory}/df_{coef}_25_1.txt', sep=',', index=False)\n",
    "df_25_2.to_csv(f'{directory}/df_{coef}_25_2.txt', sep=',', index=False)\n",
    "\n",
    "df_53_1.to_csv(f'{directory}/df_{coef}_53_1.txt', sep=',', index=False)\n",
    "df_53_2.to_csv(f'{directory}/df_{coef}_53_2.txt', sep=',', index=False)\n",
    "\n",
    "df_74_1.to_csv(f'{directory}/df_{coef}_74_1.txt', sep=',', index=False)\n",
    "df_74_2.to_csv(f'{directory}/df_{coef}_74_2.txt', sep=',', index=False)\n",
    "\n",
    "df_102_1.to_csv(f'{directory}/df_{coef}_102_1.txt', sep=',', index=False)\n",
    "df_102_2.to_csv(f'{directory}/df_{coef}_102_2.txt', sep=',', index=False)"
   ]
  },
  {
   "cell_type": "markdown",
   "metadata": {},
   "source": [
    "## ff"
   ]
  },
  {
   "cell_type": "code",
   "execution_count": null,
   "metadata": {},
   "outputs": [],
   "source": [
    "# Carga de los datos\n",
    "df_25 = pd.read_csv('resources/LIB/CI/df_ff_25.txt', sep=',')\n",
    "df_53 = pd.read_csv('resources/LIB/CI/df_ff_53.txt', sep=',')\n",
    "df_74 = pd.read_csv('resources/LIB/CI/df_ff_74.txt', sep=',')\n",
    "df_102 = pd.read_csv('resources/LIB/CI/df_ff_102.txt', sep=',')"
   ]
  },
  {
   "cell_type": "code",
   "execution_count": null,
   "metadata": {},
   "outputs": [],
   "source": [
    "coef = \"ff\"\n",
    "# División de los DataFrames\n",
    "df_25_1, df_25_2 = dividir_dataframe(df_25, choice=4,coef=coef)\n",
    "df_53_1, df_53_2 = dividir_dataframe(df_53, choice=4,coef=coef)\n",
    "df_74_1, df_74_2 = dividir_dataframe(df_74, choice=4,coef=coef)\n",
    "df_102_1, df_102_2 = dividir_dataframe(df_102, choice=4,coef=coef)\n",
    "\n",
    "# Exportación de los segmentos a archivos .txt (CSV en realidad)\n",
    "df_25_1.to_csv(f'{directory}/df_{coef}_25_1.txt', sep=',', index=False)\n",
    "df_25_2.to_csv(f'{directory}/df_{coef}_25_2.txt', sep=',', index=False)\n",
    "\n",
    "df_53_1.to_csv(f'{directory}/df_{coef}_53_1.txt', sep=',', index=False)\n",
    "df_53_2.to_csv(f'{directory}/df_{coef}_53_2.txt', sep=',', index=False)\n",
    "\n",
    "df_74_1.to_csv(f'{directory}/df_{coef}_74_1.txt', sep=',', index=False)\n",
    "df_74_2.to_csv(f'{directory}/df_{coef}_74_2.txt', sep=',', index=False)\n",
    "\n",
    "df_102_1.to_csv(f'{directory}/df_{coef}_102_1.txt', sep=',', index=False)\n",
    "df_102_2.to_csv(f'{directory}/df_{coef}_102_2.txt', sep=',', index=False)"
   ]
  },
  {
   "cell_type": "markdown",
   "metadata": {},
   "source": [
    "## n"
   ]
  },
  {
   "cell_type": "code",
   "execution_count": null,
   "metadata": {},
   "outputs": [],
   "source": [
    "# Carga de los datos\n",
    "df_25 = pd.read_csv('resources/LIB/CI/df_n_25.txt', sep=',')\n",
    "df_53 = pd.read_csv('resources/LIB/CI/df_n_53.txt', sep=',')\n",
    "df_74 = pd.read_csv('resources/LIB/CI/df_n_74.txt', sep=',')\n",
    "df_102 = pd.read_csv('resources/LIB/CI/df_n_102.txt', sep=',')"
   ]
  },
  {
   "cell_type": "code",
   "execution_count": null,
   "metadata": {},
   "outputs": [],
   "source": [
    "coef = \"n\"\n",
    "# División de los DataFrames\n",
    "df_25_1, df_25_2 = dividir_dataframe(df_25, choice=4,coef=coef)\n",
    "df_53_1, df_53_2 = dividir_dataframe(df_53, choice=4,coef=coef)\n",
    "df_74_1, df_74_2 = dividir_dataframe(df_74, choice=4,coef=coef)\n",
    "df_102_1, df_102_2 = dividir_dataframe(df_102, choice=4,coef=coef)\n",
    "\n",
    "# Exportación de los segmentos a archivos .txt (CSV en realidad)\n",
    "df_25_1.to_csv(f'{directory}/df_{coef}_25_1.txt', sep=',', index=False)\n",
    "df_25_2.to_csv(f'{directory}/df_{coef}_25_2.txt', sep=',', index=False)\n",
    "\n",
    "df_53_1.to_csv(f'{directory}/df_{coef}_53_1.txt', sep=',', index=False)\n",
    "df_53_2.to_csv(f'{directory}/df_{coef}_53_2.txt', sep=',', index=False)\n",
    "\n",
    "df_74_1.to_csv(f'{directory}/df_{coef}_74_1.txt', sep=',', index=False)\n",
    "df_74_2.to_csv(f'{directory}/df_{coef}_74_2.txt', sep=',', index=False)\n",
    "\n",
    "df_102_1.to_csv(f'{directory}/df_{coef}_102_1.txt', sep=',', index=False)\n",
    "df_102_2.to_csv(f'{directory}/df_{coef}_102_2.txt', sep=',', index=False)"
   ]
  }
 ],
 "metadata": {
  "kernelspec": {
   "display_name": "env",
   "language": "python",
   "name": "python3"
  },
  "language_info": {
   "codemirror_mode": {
    "name": "ipython",
    "version": 3
   },
   "file_extension": ".py",
   "mimetype": "text/x-python",
   "name": "python",
   "nbconvert_exporter": "python",
   "pygments_lexer": "ipython3",
   "version": "3.11.1"
  }
 },
 "nbformat": 4,
 "nbformat_minor": 2
}
